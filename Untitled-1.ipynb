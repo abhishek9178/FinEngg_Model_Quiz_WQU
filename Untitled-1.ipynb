{
 "cells": [
  {
   "cell_type": "code",
   "execution_count": null,
   "id": "4b9afdc1",
   "metadata": {},
   "outputs": [],
   "source": [
    "// In a VS Code extension (TypeScript)\n",
    "import * as vscode from 'vscode';\n",
    "const editor = vscode.window.activeTextEditor;\n",
    "if (editor) {\n",
    "  const fsPath = editor.document.uri.fsPath;\n",
    "  console.log('Active document path:', fsPath);\n",
    "}"
   ]
  }
 ],
 "metadata": {
  "language_info": {
   "name": "python"
  }
 },
 "nbformat": 4,
 "nbformat_minor": 5
}
