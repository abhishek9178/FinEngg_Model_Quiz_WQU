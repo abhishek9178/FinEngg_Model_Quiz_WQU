{
 "cells": [
  {
   "cell_type": "code",
   "execution_count": 33,
   "id": "64308952-a70a-42c2-812c-d4a5b3a3fa71",
   "metadata": {},
   "outputs": [],
   "source": [
    "#Que-1"
   ]
  },
  {
   "cell_type": "code",
   "execution_count": 35,
   "id": "af663056-0e24-442c-a886-c52827d3699d",
   "metadata": {},
   "outputs": [
    {
     "name": "stdout",
     "output_type": "stream",
     "text": [
      "u = 1.0652883920946086\n",
      "d = 0.9387129414165152\n",
      "p = 0.4920982577308999\n"
     ]
    }
   ],
   "source": [
    "import math\n",
    "\n",
    "sigma = 0.2\n",
    "r = 0.01\n",
    "dt = 0.1\n",
    "\n",
    "# Up and down factors\n",
    "u = math.exp(sigma * math.sqrt(dt))       # u ≈ 1.0653\n",
    "d = 1 / u                                # d ≈ 0.9387\n",
    "\n",
    "# Risk-neutral probability\n",
    "p = (math.exp(r * dt) - d) / (u - d)     # p ≈ 0.4921\n",
    "\n",
    "print(\"u =\", u)\n",
    "print(\"d =\", d)\n",
    "print(\"p =\", p)"
   ]
  },
  {
   "cell_type": "code",
   "execution_count": 1,
   "id": "345cdfc5-67fe-4d38-b119-25a8bdae258d",
   "metadata": {},
   "outputs": [],
   "source": [
    "#Que-2\n",
    "S0 = 20\n",
    "u= 1.2\n",
    "d= 0.8"
   ]
  },
  {
   "cell_type": "code",
   "execution_count": 7,
   "id": "60cd997b-43af-4430-ad17-1d0c8bf606e8",
   "metadata": {},
   "outputs": [],
   "source": [
    "#Two-step path\n",
    "path = {\n",
    "    '{u,u}': S0 * u * u, \n",
    "    '{u,d}': S0 * u * d,\n",
    "    '{d,u}': S0 * d * u,\n",
    "    '{d,d}': S0 * d * d,\n",
    "}"
   ]
  },
  {
   "cell_type": "code",
   "execution_count": 6,
   "id": "5e8fffb0-46c5-44e0-9355-b5e6ab92f2ea",
   "metadata": {},
   "outputs": [
    {
     "data": {
      "text/plain": [
       "{'{u,u}': 28.799999999999997,\n",
       " '{u,d}': 19.200000000000003,\n",
       " '{d,u}': 19.2,\n",
       " '{d,d}': 12.8}"
      ]
     },
     "execution_count": 6,
     "metadata": {},
     "output_type": "execute_result"
    }
   ],
   "source": [
    "#Find which gives 12.8\n",
    "result = {k: v for k, v in path.items() if abs(v-12.8)< 1e6}\n",
    "\n",
    "path\n",
    "\n",
    "result"
   ]
  },
  {
   "cell_type": "code",
   "execution_count": 8,
   "id": "5cc71c72-6269-420c-b949-0e4222414a47",
   "metadata": {},
   "outputs": [],
   "source": [
    "#Que-3"
   ]
  },
  {
   "cell_type": "code",
   "execution_count": 2,
   "id": "b2f3e811-e170-457c-957a-6eb0f6a368b6",
   "metadata": {},
   "outputs": [
    {
     "name": "stdout",
     "output_type": "stream",
     "text": [
      "/Library/Frameworks/Python.framework/Versions/3.13/bin/python3.13\n"
     ]
    }
   ],
   "source": [
    "import sys\n",
    "print(sys.executable)"
   ]
  },
  {
   "cell_type": "code",
   "execution_count": 3,
   "id": "0ec28c17-48e5-4b13-8edf-4f9047fff09e",
   "metadata": {},
   "outputs": [],
   "source": [
    "import math\n",
    "import scipy.stats as st"
   ]
  },
  {
   "cell_type": "code",
   "execution_count": 4,
   "id": "7eeb51eb-e05b-4a84-9531-34a78901f2d0",
   "metadata": {},
   "outputs": [
    {
     "data": {
      "text/plain": [
       "29.38454450999999"
      ]
     },
     "execution_count": 4,
     "metadata": {},
     "output_type": "execute_result"
    }
   ],
   "source": [
    "# Given parameters\n",
    "u = 1.2\n",
    "d = 0.8\n",
    "N = 10\n",
    "r = 0\n",
    "K = 90\n",
    "S0 = 100\n",
    "\n",
    "dt = 1  # unit step since T=N=10 implies 10 steps of 1 each\n",
    "p = (math.exp(r * dt) - d) / (u - d)  # risk-neutral probability\n",
    "\n",
    "# Compute possible stock prices at maturity\n",
    "prices = [S0 * (u ** j) * (d ** (N - j)) for j in range(N + 1)]\n",
    "payoffs = [max(S - K, 0) for S in prices]\n",
    "\n",
    "# Expected discounted value using binomial probabilities\n",
    "price = 0\n",
    "for j in range(N + 1):\n",
    "    prob = math.comb(N, j) * (p ** j) * ((1 - p) ** (N - j))\n",
    "    price += prob * payoffs[j]\n",
    "\n",
    "C0 = price * math.exp(-r * N)\n",
    "C0"
   ]
  },
  {
   "cell_type": "code",
   "execution_count": 5,
   "id": "80c4136c-c1cd-4f18-b3be-2a8f8f41d89d",
   "metadata": {},
   "outputs": [],
   "source": [
    "#Que-4"
   ]
  },
  {
   "cell_type": "code",
   "execution_count": 6,
   "id": "cc73db59-2620-417c-a84e-6f9055203152",
   "metadata": {},
   "outputs": [
    {
     "data": {
      "text/plain": [
       "-0.3125"
      ]
     },
     "execution_count": 6,
     "metadata": {},
     "output_type": "execute_result"
    }
   ],
   "source": [
    "# Given parameters\n",
    "p = 0.5\n",
    "u = 1.2\n",
    "d = 0.8\n",
    "r = 0\n",
    "K = 74\n",
    "S0 = 100\n",
    "N = 2\n",
    "\n",
    "# Price at time t=1 (after one step)\n",
    "S_u = S0 * u  # Price after up move\n",
    "S_d = S0 * d  # Price after down move\n",
    "\n",
    "# Prices at maturity (time t=2) following up and down moves from t=1\n",
    "S_uu = S_u * u\n",
    "S_ud = S_u * d\n",
    "S_dd = S_d * d\n",
    "S_du = S_d * u\n",
    "\n",
    "# Put option payoffs at maturity\n",
    "payoff_uu = max(K - S_uu, 0)\n",
    "payoff_ud = max(K - S_ud, 0)\n",
    "payoff_du = max(K - S_du, 0)\n",
    "payoff_dd = max(K - S_dd, 0)\n",
    "\n",
    "# Option values at time t=1\n",
    "# Since risk free rate = 0, no discounting required\n",
    "C_u = p * payoff_uu + (1 - p) * payoff_ud  # option value if up move at t=1\n",
    "C_d = p * payoff_du + (1 - p) * payoff_dd  # option value if down move at t=1\n",
    "\n",
    "# Delta_d at t=1 (sensitivity of option value wrt stock price at down node)\n",
    "# Delta = (C_u - C_d) / (S_u - S_d)\n",
    "\n",
    "# But we need delta at down node, which is between C_du and C_dd values\n",
    "# We compute delta at down node using values at t=2\n",
    "Delta_d = (payoff_du - payoff_dd) / (S_du - S_dd)\n",
    "Delta_d"
   ]
  },
  {
   "cell_type": "code",
   "execution_count": 7,
   "id": "944e47dd-c513-4352-9664-31839ad2493a",
   "metadata": {},
   "outputs": [],
   "source": [
    "#Que-5"
   ]
  },
  {
   "cell_type": "code",
   "execution_count": 11,
   "id": "217e4da7-7c99-46e3-8191-62e384061797",
   "metadata": {},
   "outputs": [],
   "source": [
    "import math\n",
    "from scipy.stats import binom\n",
    "\n",
    "# Given parameters\n",
    "sigma = 0.3\n",
    "T = 1\n",
    "N = 2000\n",
    "r = 0\n",
    "K = 90\n",
    "S0 = 100"
   ]
  },
  {
   "cell_type": "code",
   "execution_count": 12,
   "id": "9e5bd322-b593-4234-9669-791f576ab46b",
   "metadata": {},
   "outputs": [
    {
     "data": {
      "text/plain": [
       "np.float64(17.012823965124387)"
      ]
     },
     "execution_count": 12,
     "metadata": {},
     "output_type": "execute_result"
    }
   ],
   "source": [
    "dt = T / N\n",
    "u = math.exp(sigma * math.sqrt(dt))\n",
    "d = 1 / u\n",
    "\n",
    "# Risk neutral probability\n",
    "p = (math.exp(r * dt) - d) / (u - d)\n",
    "\n",
    "# Calculate binomial probabilities using scipy binom pmf\n",
    "price = 0\n",
    "for j in range(N + 1):\n",
    "    S = S0 * (u ** j) * (d ** (N - j))\n",
    "    payoff = max(S - K, 0)\n",
    "    prob = binom.pmf(j, N, p)\n",
    "    price += prob * payoff\n",
    "\n",
    "# Discounting not required as r=0\n",
    "C0 = price\n",
    "C0"
   ]
  },
  {
   "cell_type": "code",
   "execution_count": 13,
   "id": "408a0704-24e3-4fcf-9903-18ea0966b5ba",
   "metadata": {},
   "outputs": [],
   "source": [
    "#Que-6"
   ]
  },
  {
   "cell_type": "code",
   "execution_count": 14,
   "id": "0b3946aa-a818-467f-bf9e-5a96d0de7fda",
   "metadata": {},
   "outputs": [
    {
     "data": {
      "text/plain": [
       "40"
      ]
     },
     "execution_count": 14,
     "metadata": {},
     "output_type": "execute_result"
    }
   ],
   "source": [
    "# Portfolio value is dot product of composition vector and prices vector\n",
    "Phi = [1, 2, 4, 5]\n",
    "Y = [0, 3, 1, 6]\n",
    "\n",
    "# Dot product\n",
    "V = sum(a*b for a, b in zip(Phi, Y))\n",
    "V"
   ]
  },
  {
   "cell_type": "code",
   "execution_count": 15,
   "id": "e4f823b4-c0e3-423d-96ad-cf40b47d7890",
   "metadata": {},
   "outputs": [],
   "source": [
    "#Que-7"
   ]
  },
  {
   "cell_type": "code",
   "execution_count": 16,
   "id": "a5773054-4d62-49c3-9b4e-31fcef279b0a",
   "metadata": {},
   "outputs": [
    {
     "data": {
      "text/plain": [
       "np.float64(16.12587400663275)"
      ]
     },
     "execution_count": 16,
     "metadata": {},
     "output_type": "execute_result"
    }
   ],
   "source": [
    "import math\n",
    "from scipy.stats import binom\n",
    "\n",
    "# Given parameters\n",
    "u = 1.3\n",
    "d = 0.8\n",
    "N = 40\n",
    "r = 0\n",
    "K = 31\n",
    "S0 = 36\n",
    "\n",
    "T = 40\n",
    "# For binomial, N = T in this setup; dt = T/N = 1 here\n",
    "\n",
    "dt = T / N\n",
    "p = (math.exp(r * dt) - d) / (u - d)\n",
    "\n",
    "price = 0\n",
    "for j in range(N + 1):\n",
    "    S = S0 * (u ** j) * (d ** (N - j))\n",
    "    payoff = max(K - S, 0)\n",
    "    prob = binom.pmf(j, N, p)\n",
    "    price += prob * payoff\n",
    "\n",
    "C0 = price  # No discounting needed, r=0\n",
    "C0"
   ]
  },
  {
   "cell_type": "code",
   "execution_count": 17,
   "id": "8c8c8c0b-551e-41a7-aaef-1dc1c18f32cd",
   "metadata": {},
   "outputs": [],
   "source": [
    "import math\n",
    "from scipy.stats import binom\n",
    "\n",
    "# Parameters\n",
    "u = 1.2\n",
    "d = 0.8\n",
    "N = 10\n",
    "r = 0\n",
    "K = 90\n",
    "S0 = 100\n",
    "T = 10"
   ]
  },
  {
   "cell_type": "code",
   "execution_count": 18,
   "id": "e570f466-289d-4cce-b2ff-7f22fda6f39d",
   "metadata": {},
   "outputs": [
    {
     "data": {
      "text/plain": [
       "np.float64(0.018703278808593755)"
      ]
     },
     "execution_count": 18,
     "metadata": {},
     "output_type": "execute_result"
    }
   ],
   "source": [
    "dt = T / N\n",
    "p = (math.exp(r * dt) - d) / (u - d)\n",
    "\n",
    "# Node: ddddd at t=5\n",
    "# Number of down moves: 5\n",
    "# S_ddddd = S0 * (d**5) * (u**0)\n",
    "S_ddddd = S0 * (d ** 5)\n",
    "\n",
    "# Price after one up move from ddddd: S_dddddu\n",
    "S_dddddu = S_ddddd * u\n",
    "# Price after one down move from ddddd: S_dddddd\n",
    "S_dddddd = S_ddddd * d\n",
    "\n",
    "# Remaining steps: 5\n",
    "rem_steps = N - 5\n",
    "\n",
    "# Compute option values after up and down moves (at t=10)\n",
    "# Probabilities after up move: 0..5 downs among 5 steps\n",
    "payoffs_u = []\n",
    "payoffs_d = []\n",
    "for k in range(rem_steps + 1):\n",
    "    # After one up move\n",
    "    S = S_dddddu * (u ** k) * (d ** (rem_steps - k))\n",
    "    payoff = max(S - K, 0)\n",
    "    prob = binom.pmf(k, rem_steps, p)\n",
    "    payoffs_u.append(payoff * prob)\n",
    "    # After one down move\n",
    "    S2 = S_dddddd * (u ** k) * (d ** (rem_steps - k))\n",
    "    payoff2 = max(S2 - K, 0)\n",
    "    prob2 = binom.pmf(k, rem_steps, p)\n",
    "    payoffs_d.append(payoff2 * prob2)\n",
    "C_up = sum(payoffs_u)\n",
    "C_down = sum(payoffs_d)\n",
    "Delta_ddddd = (C_up - C_down) / (S_dddddu - S_dddddd)\n",
    "Delta_ddddd"
   ]
  },
  {
   "cell_type": "code",
   "execution_count": 19,
   "id": "040c7337-840b-496d-94a5-e100c52798bc",
   "metadata": {},
   "outputs": [],
   "source": [
    "#Que-10"
   ]
  },
  {
   "cell_type": "code",
   "execution_count": 20,
   "id": "86fd61ed-36b8-4404-ac54-5bffc8a9cb54",
   "metadata": {},
   "outputs": [
    {
     "data": {
      "text/plain": [
       "30"
      ]
     },
     "execution_count": 20,
     "metadata": {},
     "output_type": "execute_result"
    }
   ],
   "source": [
    "# Portfolio value is dot product of composition vector and prices vector\n",
    "Phi = [1, -8, 4, 5]\n",
    "Y = [0, 0, 0, 6]\n",
    "\n",
    "# Dot product\n",
    "V = sum(a*b for a, b in zip(Phi, Y))\n",
    "V"
   ]
  },
  {
   "cell_type": "code",
   "execution_count": 21,
   "id": "32946793-75f7-470a-b4d8-875f4cbd99e1",
   "metadata": {},
   "outputs": [],
   "source": [
    "#Que-11"
   ]
  },
  {
   "cell_type": "code",
   "execution_count": 22,
   "id": "12f76a53-3d82-4822-9803-80aaa14b09dc",
   "metadata": {},
   "outputs": [
    {
     "data": {
      "text/plain": [
       "np.float64(19.384544510000005)"
      ]
     },
     "execution_count": 22,
     "metadata": {},
     "output_type": "execute_result"
    }
   ],
   "source": [
    "import math\n",
    "from scipy.stats import binom\n",
    "\n",
    "# Parameters\n",
    "d = 0.8\n",
    "u = 1.2\n",
    "N = 10\n",
    "r = 0\n",
    "K = 90\n",
    "S0 = 100\n",
    "\n",
    "dt = 1\n",
    "p = (math.exp(r * dt) - d) / (u - d)\n",
    "\n",
    "price = 0\n",
    "for j in range(N+1):\n",
    "    S = S0 * (u ** j) * (d ** (N - j))\n",
    "    payoff = max(K - S, 0)\n",
    "    prob = binom.pmf(j, N, p)\n",
    "    price += prob * payoff\n",
    "\n",
    "C0 = price\n",
    "C0"
   ]
  },
  {
   "cell_type": "code",
   "execution_count": 23,
   "id": "1c6deae9-863f-4e2b-a749-52cb35726c5c",
   "metadata": {},
   "outputs": [],
   "source": [
    "#Que-12"
   ]
  },
  {
   "cell_type": "code",
   "execution_count": 24,
   "id": "db555392-f3e5-4a3e-b882-61adfd837c09",
   "metadata": {},
   "outputs": [
    {
     "data": {
      "text/plain": [
       "0.0"
      ]
     },
     "execution_count": 24,
     "metadata": {},
     "output_type": "execute_result"
    }
   ],
   "source": [
    "import math\n",
    "from scipy.stats import binom\n",
    "\n",
    "# Parameters given:\n",
    "u = 1.2\n",
    "d = 0.8\n",
    "p = 0.5\n",
    "r = 0\n",
    "K = 74\n",
    "S0 = 100\n",
    "N = 2\n",
    "\n",
    "# t = 1, after one up move\n",
    "S_u = S0 * u\n",
    "S_d = S0 * d\n",
    "\n",
    "# t = 2, possible prices\n",
    "S_uu = S_u * u\n",
    "S_ud = S_u * d\n",
    "S_du = S_d * u\n",
    "S_dd = S_d * d\n",
    "\n",
    "# At maturity, payoffs for put\n",
    "put_uu = max(K - S_uu, 0)\n",
    "put_ud = max(K - S_ud, 0)\n",
    "put_du = max(K - S_du, 0)\n",
    "put_dd = max(K - S_dd, 0)\n",
    "\n",
    "# Option value at t=1, up node\n",
    "C_u = p * put_uu + (1 - p) * put_ud\n",
    "C_d = p * put_du + (1 - p) * put_dd\n",
    "\n",
    "# Delta at up node (Delta_u)\n",
    "Delta_u = (put_uu - put_ud) / (S_uu - S_ud)\n",
    "Delta_u"
   ]
  },
  {
   "cell_type": "code",
   "execution_count": 25,
   "id": "1301584b-221f-44de-b428-4bdf6dd340c0",
   "metadata": {},
   "outputs": [],
   "source": [
    "#Que-13"
   ]
  },
  {
   "cell_type": "code",
   "execution_count": 26,
   "id": "be8206a4-09fd-4573-b932-ceacc86bab84",
   "metadata": {},
   "outputs": [
    {
     "data": {
      "text/plain": [
       "np.float64(28.64653109055259)"
      ]
     },
     "execution_count": 26,
     "metadata": {},
     "output_type": "execute_result"
    }
   ],
   "source": [
    "import math\n",
    "from scipy.stats import binom\n",
    "\n",
    "sigma = 0.5\n",
    "T = 1\n",
    "N = 1000\n",
    "r = 0.1\n",
    "K = 90\n",
    "S0 = 100\n",
    "\n",
    "dt = T / N\n",
    "u = math.exp(sigma * math.sqrt(dt))\n",
    "d = 1 / u\n",
    "p = (math.exp(r * dt) - d) / (u - d)\n",
    "\n",
    "price = 0\n",
    "for j in range(N + 1):\n",
    "    S = S0 * (u ** j) * (d ** (N - j))\n",
    "    payoff = max(S - K, 0)\n",
    "    prob = binom.pmf(j, N, p)\n",
    "    price += prob * payoff\n",
    "\n",
    "C0 = price * math.exp(-r * T)\n",
    "C0"
   ]
  },
  {
   "cell_type": "code",
   "execution_count": 27,
   "id": "633efad0-2f54-40b1-b657-0640f0ee7701",
   "metadata": {},
   "outputs": [],
   "source": [
    "#Que-14"
   ]
  },
  {
   "cell_type": "code",
   "execution_count": 28,
   "id": "8a5752de-6bf6-49bd-8176-cdd5a832a62a",
   "metadata": {},
   "outputs": [
    {
     "data": {
      "text/plain": [
       "0"
      ]
     },
     "execution_count": 28,
     "metadata": {},
     "output_type": "execute_result"
    }
   ],
   "source": [
    "# Parameters\n",
    "S0 = 100\n",
    "u = 1.1\n",
    "d = 0.8\n",
    "K = 80\n",
    "# Path: {u,d,d,u} - up, down, down, up\n",
    "# Compute terminal price\n",
    "S_T = S0 * u * d * d * u\n",
    "payoff = max(S_T - K, 0)\n",
    "payoff"
   ]
  },
  {
   "cell_type": "code",
   "execution_count": 29,
   "id": "d4823118-f05d-432a-bd7d-29040ec3dd67",
   "metadata": {},
   "outputs": [],
   "source": [
    "#Que-15"
   ]
  },
  {
   "cell_type": "code",
   "execution_count": 30,
   "id": "437ae07e-ec78-4399-9a63-4eabe2e7ecd8",
   "metadata": {},
   "outputs": [
    {
     "data": {
      "text/plain": [
       "(-0.5, 54.29024508215757)"
      ]
     },
     "execution_count": 30,
     "metadata": {},
     "output_type": "execute_result"
    }
   ],
   "source": [
    "import math\n",
    "\n",
    "# Given parameters\n",
    "S0 = 100\n",
    "u = 1.2\n",
    "d = 0.8\n",
    "K = 100\n",
    "r = 0.1\n",
    "T = 1\n",
    "N = 1\n",
    "\n",
    "# Up and down prices\n",
    "S_u = S0 * u\n",
    "S_d = S0 * d\n",
    "\n",
    "# Put payoffs\n",
    "P_u = max(K - S_u, 0)\n",
    "P_d = max(K - S_d, 0)\n",
    "\n",
    "# Risk-neutral probability\n",
    "p = (math.exp(r * T) - d) / (u - d)\n",
    "\n",
    "# Delta (hedge ratio)\n",
    "delta = (P_u - P_d) / (S_u - S_d)\n",
    "\n",
    "# Amount to invest in risk-free: B\n",
    "B = (P_u - delta * S_u) / math.exp(r * T)\n",
    "\n",
    "delta, B"
   ]
  },
  {
   "cell_type": "code",
   "execution_count": 32,
   "id": "1f114977-c5f6-427b-8e8a-80a0c3df5a3f",
   "metadata": {},
   "outputs": [],
   "source": [
    "#Que-16"
   ]
  },
  {
   "cell_type": "code",
   "execution_count": 34,
   "id": "c413168c-5eb0-4e09-9fe2-5277ea482bc2",
   "metadata": {},
   "outputs": [
    {
     "data": {
      "text/plain": [
       "0.1875"
      ]
     },
     "execution_count": 34,
     "metadata": {},
     "output_type": "execute_result"
    }
   ],
   "source": [
    "import math\n",
    "\n",
    "# Parameters\n",
    "d = 0.8\n",
    "u = 1.2\n",
    "p = 0.5\n",
    "K = 90\n",
    "S0 = 100\n",
    "N = 2\n",
    "\n",
    "# Prices after 1 step: up and down\n",
    "S_u = S0 * u\n",
    "S_d = S0 * d\n",
    "\n",
    "# Prices at time t=2 (maturity)\n",
    "S_du = S_d * u\n",
    "S_dd = S_d * d\n",
    "\n",
    "# Call option payoffs at t=2 after down then up and down then down\n",
    "call_du = max(S_du - K, 0)\n",
    "call_dd = max(S_dd - K, 0)\n",
    "\n",
    "# Delta at down node, t=1\n",
    "Delta_d = (call_du - call_dd) / (S_du - S_dd)\n",
    "Delta_d"
   ]
  },
  {
   "cell_type": "code",
   "execution_count": null,
   "id": "232215ee-30a2-44a8-8dfa-6ae41b95f072",
   "metadata": {},
   "outputs": [],
   "source": []
  }
 ],
 "metadata": {
  "kernelspec": {
   "display_name": "Python 3 (ipykernel)",
   "language": "python",
   "name": "python3"
  },
  "language_info": {
   "codemirror_mode": {
    "name": "ipython",
    "version": 3
   },
   "file_extension": ".py",
   "mimetype": "text/x-python",
   "name": "python",
   "nbconvert_exporter": "python",
   "pygments_lexer": "ipython3",
   "version": "3.13.5"
  }
 },
 "nbformat": 4,
 "nbformat_minor": 5
}
